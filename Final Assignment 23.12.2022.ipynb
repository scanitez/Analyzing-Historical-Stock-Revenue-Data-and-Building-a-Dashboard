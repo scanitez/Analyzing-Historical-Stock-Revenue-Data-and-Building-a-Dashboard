{
  "metadata": {
    "kernelspec": {
      "name": "python",
      "display_name": "Python (Pyodide)",
      "language": "python"
    },
    "language_info": {
      "codemirror_mode": {
        "name": "python",
        "version": 3
      },
      "file_extension": ".py",
      "mimetype": "text/x-python",
      "name": "python",
      "nbconvert_exporter": "python",
      "pygments_lexer": "ipython3",
      "version": "3.8"
    }
  },
  "nbformat_minor": 5,
  "nbformat": 4,
  "cells": [
    {
      "cell_type": "markdown",
      "source": "<p style=\"text-align:center\">\n    <a href=\"https://skills.network/?utm_medium=Exinfluencer&utm_source=Exinfluencer&utm_content=000026UJ&utm_term=10006555&utm_id=NA-SkillsNetwork-Channel-SkillsNetworkCoursesIBMDeveloperSkillsNetworkPY0220ENSkillsNetwork900-2022-01-01\" target=\"_blank\">\n    <img src=\"https://cf-courses-data.s3.us.cloud-object-storage.appdomain.cloud/assets/logos/SN_web_lightmode.png\" width=\"200\" alt=\"Skills Network Logo\"  />\n    </a>\n</p>\n",
      "metadata": {},
      "id": "4801a72f-e738-456f-a927-2a47beaae848"
    },
    {
      "cell_type": "markdown",
      "source": "<h1>Extracting and Visualizing Stock Data</h1>\n<h2>Description</h2>\n",
      "metadata": {},
      "id": "a3297b8f-d940-495e-b617-311976f3374a"
    },
    {
      "cell_type": "markdown",
      "source": "Extracting essential data from a dataset and displaying it is a necessary part of data science; therefore individuals can make correct decisions based on the data. In this assignment, you will extract some stock data, you will then display this data in a graph.\n",
      "metadata": {},
      "id": "a63757ca-0a1f-4a61-bd6c-3c25f234e7fb"
    },
    {
      "cell_type": "markdown",
      "source": "<h2>Table of Contents</h2>\n<div class=\"alert alert-block alert-info\" style=\"margin-top: 20px\">\n    <ul>\n        <li>Define a Function that Makes a Graph</li>\n        <li>Question 1: Use yfinance to Extract Stock Data</li>\n        <li>Question 2: Use Webscraping to Extract Tesla Revenue Data</li>\n        <li>Question 3: Use yfinance to Extract Stock Data</li>\n        <li>Question 4: Use Webscraping to Extract GME Revenue Data</li>\n        <li>Question 5: Plot Tesla Stock Graph</li>\n        <li>Question 6: Plot GameStop Stock Graph</li>\n    </ul>\n<p>\n    Estimated Time Needed: <strong>30 min</strong></p>\n</div>\n\n<hr>\n",
      "metadata": {},
      "id": "11a783a7-56d2-4e99-97cf-ea53bfc8aa81"
    },
    {
      "cell_type": "code",
      "source": "!pip install yfinance==0.1.67\n!pip install bs4\n!pip install nbformat\n!pip install pandas\n!pip install requests",
      "metadata": {
        "trusted": true
      },
      "execution_count": null,
      "outputs": [],
      "id": "be6e0c97-5ff6-4c62-8123-c41697152060"
    },
    {
      "cell_type": "code",
      "source": "import yfinance as yf\nimport pandas as pd\nimport requests\nfrom bs4 import BeautifulSoup\nimport plotly.graph_objects as go\nfrom plotly.subplots import make_subplots",
      "metadata": {
        "trusted": true
      },
      "execution_count": null,
      "outputs": [],
      "id": "9860fee0-de38-4cd2-936b-7479745b0f4e"
    },
    {
      "cell_type": "markdown",
      "source": "## Define Graphing Function\n",
      "metadata": {},
      "id": "c2d6a13c-efae-4024-85e5-4edda1895c92"
    },
    {
      "cell_type": "markdown",
      "source": "In this section, we define the function `make_graph`. You don't have to know how the function works, you should only care about the inputs. It takes a dataframe with stock data (dataframe must contain Date and Close columns), a dataframe with revenue data (dataframe must contain Date and Revenue columns), and the name of the stock.\n",
      "metadata": {},
      "id": "4c0e1b5f-6137-4d71-b130-5aabd2cfb7f5"
    },
    {
      "cell_type": "code",
      "source": "def make_graph(stock_data, revenue_data, stock):\n    fig = make_subplots(rows=2, cols=1, shared_xaxes=True, subplot_titles=(\"Historical Share Price\", \"Historical Revenue\"), vertical_spacing = .3)\n    stock_data_specific = stock_data[stock_data.Date <= '2021--06-14']\n    revenue_data_specific = revenue_data[revenue_data.Date <= '2021-04-30']\n    fig.add_trace(go.Scatter(x=pd.to_datetime(stock_data_specific.Date, infer_datetime_format=True), y=stock_data_specific.Close.astype(\"float\"), name=\"Share Price\"), row=1, col=1)\n    fig.add_trace(go.Scatter(x=pd.to_datetime(revenue_data_specific.Date, infer_datetime_format=True), y=revenue_data_specific.Revenue.astype(\"float\"), name=\"Revenue\"), row=2, col=1)\n    fig.update_xaxes(title_text=\"Date\", row=1, col=1)\n    fig.update_xaxes(title_text=\"Date\", row=2, col=1)\n    fig.update_yaxes(title_text=\"Price ($US)\", row=1, col=1)\n    fig.update_yaxes(title_text=\"Revenue ($US Millions)\", row=2, col=1)\n    fig.update_layout(showlegend=False,\n    height=900,\n    title=stock,\n    xaxis_rangeslider_visible=True)\n    fig.show()",
      "metadata": {
        "trusted": true
      },
      "execution_count": null,
      "outputs": [],
      "id": "0dcaaa5e-e5ed-4337-beb4-134b5da043d6"
    },
    {
      "cell_type": "markdown",
      "source": "## Question 1: Use yfinance to Extract Stock Data\n",
      "metadata": {},
      "id": "fbaa3d01-1420-4087-9d79-3a56522c1610"
    },
    {
      "cell_type": "markdown",
      "source": "Using the `Ticker` function enter the ticker symbol of the stock we want to extract data on to create a ticker object. The stock is Tesla and its ticker symbol is `TSLA`.\n",
      "metadata": {},
      "id": "d574fd10-1aab-4e46-a924-53d028709d24"
    },
    {
      "cell_type": "code",
      "source": "tesla = yf.Ticker(\"TSLA\")",
      "metadata": {
        "trusted": true
      },
      "execution_count": null,
      "outputs": [],
      "id": "408e0d71-3e76-4731-8cb0-60e7efd7c9ae"
    },
    {
      "cell_type": "markdown",
      "source": "Using the ticker object and the function `history` extract stock information and save it in a dataframe named `tesla_data`. Set the `period` parameter to `max` so we get information for the maximum amount of time.\n",
      "metadata": {},
      "id": "13c78686-b22b-490c-acac-b66d49024e46"
    },
    {
      "cell_type": "code",
      "source": "tesla_data = tesla.history(period=\"max\")",
      "metadata": {
        "trusted": true
      },
      "execution_count": null,
      "outputs": [],
      "id": "7f9763e4-9122-41ec-9443-a53343c59b60"
    },
    {
      "cell_type": "markdown",
      "source": "**Reset the index** using the `reset_index(inplace=True)` function on the tesla_data DataFrame and display the first five rows of the `tesla_data` dataframe using the `head` function. Take a screenshot of the results and code from the beginning of Question 1 to the results below.\n",
      "metadata": {},
      "id": "15032e00-90d7-455e-adcd-a1eeec54d6e0"
    },
    {
      "cell_type": "code",
      "source": "tesla_data.reset_index(inplace=True)\ntesla_data.head()",
      "metadata": {
        "trusted": true
      },
      "execution_count": null,
      "outputs": [],
      "id": "0123c47b-8378-4c7f-99be-80e571416ebd"
    },
    {
      "cell_type": "markdown",
      "source": "## Question 2: Use Webscraping to Extract Tesla Revenue Data\n",
      "metadata": {},
      "id": "b94b5dab-a6f1-40eb-b836-0062988464db"
    },
    {
      "cell_type": "markdown",
      "source": "Use the `requests` library to download the webpage https://cf-courses-data.s3.us.cloud-object-storage.appdomain.cloud/IBMDeveloperSkillsNetwork-PY0220EN-SkillsNetwork/labs/project/revenue.htm Save the text of the response as a variable named `html_data`.\n",
      "metadata": {},
      "id": "10c4befd-c47e-4592-a72e-7c0b5c678068"
    },
    {
      "cell_type": "code",
      "source": "url= \"https://cf-courses-data.s3.us.cloud-object-storage.appdomain.cloud/IBMDeveloperSkillsNetwork-PY0220EN-SkillsNetwork/labs/project/revenue.htm\"\nhtml_data=requests.get(url).text",
      "metadata": {
        "trusted": true
      },
      "execution_count": null,
      "outputs": [],
      "id": "f65ee884-d9a1-424a-bcb2-bab7e3fbc53f"
    },
    {
      "cell_type": "markdown",
      "source": "Parse the html data using `beautiful_soup`.\n",
      "metadata": {},
      "id": "e08fb22f-128a-4f99-8344-dd18d6279ab6"
    },
    {
      "cell_type": "code",
      "source": "soup = BeautifulSoup(html_data,\"html5lib\")",
      "metadata": {
        "trusted": true
      },
      "execution_count": null,
      "outputs": [],
      "id": "208b38b4-260c-4098-9b1e-9e88baed91c7"
    },
    {
      "cell_type": "markdown",
      "source": "Using `BeautifulSoup` or the `read_html` function extract the table with `Tesla Quarterly Revenue` and store it into a dataframe named `tesla_revenue`. The dataframe should have columns `Date` and `Revenue`.\n",
      "metadata": {},
      "id": "2beb668c-ce60-4121-96fc-0aa47465f941"
    },
    {
      "cell_type": "markdown",
      "source": "<details><summary>Click here if you need help locating the table</summary>\n\n```\n    \nBelow is the code to isolate the table, you will now need to loop through the rows and columns like in the previous lab\n    \nsoup.find_all(\"tbody\")[1]\n    \nIf you want to use the read_html function the table is located at index 1\n\n\n```\n\n</details>\n",
      "metadata": {},
      "id": "e6d73b96-e834-49d0-a325-4341ab772ad8"
    },
    {
      "cell_type": "code",
      "source": "tesla_revenue= pd.read_html(url, match=\"Tesla Quarterly Revenue\", flavor='bs4')[0]\ntesla_revenue=tesla_revenue.rename(columns = {'Tesla Quarterly Revenue(Millions of US $)': 'Date', 'Tesla Quarterly Revenue(Millions of US $).1': 'Revenue'}, inplace = False)\ntesla_revenue[\"Revenue\"] = tesla_revenue[\"Revenue\"].str.replace(\",\",\"\").str.replace(\"$\",\"\", regex=True)\ntesla_revenue.head()",
      "metadata": {
        "trusted": true
      },
      "execution_count": null,
      "outputs": [],
      "id": "cd2a6e7c-8f63-48d6-b335-533af47912b3"
    },
    {
      "cell_type": "markdown",
      "source": "Execute the following line to remove the comma and dollar sign from the `Revenue` column. \n",
      "metadata": {},
      "id": "621993b9-01da-48e3-a3e3-d65364683bae"
    },
    {
      "cell_type": "code",
      "source": "tesla_revenue[\"Revenue\"] = tesla_revenue['Revenue'].str.replace(',|\\$',\"\", regex=True)",
      "metadata": {
        "trusted": true
      },
      "execution_count": null,
      "outputs": [],
      "id": "a96aff4d-1999-4f8b-a2e2-a0a9d15f900f"
    },
    {
      "cell_type": "markdown",
      "source": "Execute the following lines to remove an null or empty strings in the Revenue column.\n",
      "metadata": {},
      "id": "92e23a47-3512-489a-b2da-7d596cee444d"
    },
    {
      "cell_type": "code",
      "source": "tesla_revenue.dropna(inplace=True)\n\ntesla_revenue = tesla_revenue[tesla_revenue['Revenue'] != \"\"]",
      "metadata": {
        "trusted": true
      },
      "execution_count": null,
      "outputs": [],
      "id": "3f14fcdc-450c-4fba-82da-a56ec62ac81d"
    },
    {
      "cell_type": "markdown",
      "source": "Display the last 5 row of the `tesla_revenue` dataframe using the `tail` function. Take a screenshot of the results.\n",
      "metadata": {},
      "id": "e64f6be4-8b4f-4077-b7dc-03ce2c2df456"
    },
    {
      "cell_type": "code",
      "source": "tesla_revenue.dropna(inplace=True)\ntesla_revenue.tail()",
      "metadata": {
        "trusted": true
      },
      "execution_count": null,
      "outputs": [],
      "id": "3676dbd9-97ce-4fb8-945c-ca96db5d28d5"
    },
    {
      "cell_type": "markdown",
      "source": "## Question 3: Use yfinance to Extract Stock Data\n",
      "metadata": {},
      "id": "6ef322a4-e492-4e0e-a514-5122180f8654"
    },
    {
      "cell_type": "markdown",
      "source": "Using the `Ticker` function enter the ticker symbol of the stock we want to extract data on to create a ticker object. The stock is GameStop and its ticker symbol is `GME`.\n",
      "metadata": {},
      "id": "662635b8-6df0-4db5-a536-a82e6dff05dc"
    },
    {
      "cell_type": "code",
      "source": "gamestop = yf.Ticker(\"GME\")",
      "metadata": {
        "trusted": true
      },
      "execution_count": null,
      "outputs": [],
      "id": "f45e0206-d410-44f7-869f-f5e8d6985de0"
    },
    {
      "cell_type": "markdown",
      "source": "Using the ticker object and the function `history` extract stock information and save it in a dataframe named `gme_data`. Set the `period` parameter to `max` so we get information for the maximum amount of time.\n",
      "metadata": {},
      "id": "2f9983cb-a323-4f8e-8ff6-e5af19e10286"
    },
    {
      "cell_type": "code",
      "source": "gme_data=gamestop.history(period=\"max\")",
      "metadata": {
        "trusted": true
      },
      "execution_count": null,
      "outputs": [],
      "id": "5da839c4-31ae-49aa-ace9-fdebade2eb3b"
    },
    {
      "cell_type": "markdown",
      "source": "**Reset the index** using the `reset_index(inplace=True)` function on the gme_data DataFrame and display the first five rows of the `gme_data` dataframe using the `head` function. Take a screenshot of the results and code from the beginning of Question 3 to the results below.\n",
      "metadata": {},
      "id": "1620f225-e2d6-4ba8-ac99-9e701fdcdea0"
    },
    {
      "cell_type": "code",
      "source": "gme_data.reset_index(inplace=True)\ngme_data.head()",
      "metadata": {
        "trusted": true
      },
      "execution_count": null,
      "outputs": [],
      "id": "e5dbf4a7-d32e-412b-b6c5-1b22fd5944ed"
    },
    {
      "cell_type": "markdown",
      "source": "## Question 4: Use Webscraping to Extract GME Revenue Data\n",
      "metadata": {},
      "id": "96df5f96-275e-47fb-9f39-509e09adbab6"
    },
    {
      "cell_type": "markdown",
      "source": "Use the `requests` library to download the webpage https://cf-courses-data.s3.us.cloud-object-storage.appdomain.cloud/IBMDeveloperSkillsNetwork-PY0220EN-SkillsNetwork/labs/project/stock.html. Save the text of the response as a variable named `html_data`.\n",
      "metadata": {},
      "id": "d40ea356-9393-4bf7-a67f-f95741863ad7"
    },
    {
      "cell_type": "code",
      "source": "url=\"https://cf-courses-data.s3.us.cloud-object-storage.appdomain.cloud/IBMDeveloperSkillsNetwork-PY0220EN-SkillsNetwork/labs/project/stock.html\"\nhtml_data=requests.get(url).text",
      "metadata": {
        "trusted": true
      },
      "execution_count": null,
      "outputs": [],
      "id": "35ddd411-d1c1-4a06-9f2e-b1a31566ef2c"
    },
    {
      "cell_type": "markdown",
      "source": "Parse the html data using `beautiful_soup`.\n",
      "metadata": {},
      "id": "18de3ace-3412-47aa-ae7f-97d486debff9"
    },
    {
      "cell_type": "code",
      "source": "soup = BeautifulSoup(html_data,\"html5lib\")",
      "metadata": {
        "trusted": true
      },
      "execution_count": null,
      "outputs": [],
      "id": "c932e23d-cd21-4e85-afc8-7e3193134d74"
    },
    {
      "cell_type": "markdown",
      "source": "Using `BeautifulSoup` or the `read_html` function extract the table with `GameStop Quarterly Revenue` and store it into a dataframe named `gme_revenue`. The dataframe should have columns `Date` and `Revenue`. Make sure the comma and dollar sign is removed from the `Revenue` column using a method similar to what you did in Question 2.\n",
      "metadata": {},
      "id": "2b8e8a88-b39e-4ca0-82e7-d833cf090e85"
    },
    {
      "cell_type": "markdown",
      "source": "<details><summary>Click here if you need help locating the table</summary>\n\n```\n    \nBelow is the code to isolate the table, you will now need to loop through the rows and columns like in the previous lab\n    \nsoup.find_all(\"tbody\")[1]\n    \nIf you want to use the read_html function the table is located at index 1\n\n\n```\n\n</details>\n",
      "metadata": {},
      "id": "2c7f53d6-b641-4f2a-b7c0-09946f07300f"
    },
    {
      "cell_type": "code",
      "source": "gme_revenue= pd.read_html(url, match=\"GameStop Quarterly Revenue\", flavor='bs4')[0]\ngme_revenue=gme_revenue.rename(columns = {'GameStop Quarterly Revenue(Millions of US $)': 'Date', 'GameStop Quarterly Revenue(Millions of US $).1': 'Revenue'}, inplace = False)\ngme_revenue[\"Revenue\"] = gme_revenue[\"Revenue\"].str.replace(\",\",\"\").str.replace(\"$\",\"\", regex=True)",
      "metadata": {
        "trusted": true
      },
      "execution_count": null,
      "outputs": [],
      "id": "0435b643-007e-4713-bf52-f3bc2d3fc611"
    },
    {
      "cell_type": "markdown",
      "source": "Display the last five rows of the `gme_revenue` dataframe using the `tail` function. Take a screenshot of the results.\n",
      "metadata": {},
      "id": "bf5f0a15-d2bc-48e0-9899-4020ed99dbd7"
    },
    {
      "cell_type": "code",
      "source": "gme_revenue.dropna(inplace=True)\ngme_revenue.tail()",
      "metadata": {
        "trusted": true
      },
      "execution_count": null,
      "outputs": [],
      "id": "fce8dbe5-c305-48f4-aecb-487126ac37b3"
    },
    {
      "cell_type": "markdown",
      "source": "## Question 5: Plot Tesla Stock Graph\n",
      "metadata": {},
      "id": "9f78c13c-8932-446f-bb66-7f278b559d3e"
    },
    {
      "cell_type": "markdown",
      "source": "Use the `make_graph` function to graph the Tesla Stock Data, also provide a title for the graph. The structure to call the `make_graph` function is `make_graph(tesla_data, tesla_revenue, 'Tesla')`. Note the graph will only show data upto June 2021.\n",
      "metadata": {},
      "id": "f149575a-faf8-41bc-8c35-7b17b7928d89"
    },
    {
      "cell_type": "code",
      "source": "make_graph(tesla_data, tesla_revenue, 'Tesla')",
      "metadata": {
        "trusted": true
      },
      "execution_count": null,
      "outputs": [],
      "id": "4aaf867a-2a26-4506-9f22-dfcb210047f7"
    },
    {
      "cell_type": "markdown",
      "source": "## Question 6: Plot GameStop Stock Graph\n",
      "metadata": {},
      "id": "c9e237cf-6914-43db-b5cf-c0aaafdbe3ec"
    },
    {
      "cell_type": "markdown",
      "source": "Use the `make_graph` function to graph the GameStop Stock Data, also provide a title for the graph. The structure to call the `make_graph` function is `make_graph(gme_data, gme_revenue, 'GameStop')`. Note the graph will only show data upto June 2021.\n",
      "metadata": {},
      "id": "7a92ff53-3182-4a8d-b69b-7289e023014b"
    },
    {
      "cell_type": "code",
      "source": "make_graph(gme_data, gme_revenue, 'GameStop')",
      "metadata": {
        "trusted": true
      },
      "execution_count": null,
      "outputs": [],
      "id": "d0c80aa1-5117-4ec7-9e0d-e860b7914c14"
    },
    {
      "cell_type": "markdown",
      "source": "<h2>About the Authors:</h2> \n\n<a href=\"https://www.linkedin.com/in/joseph-s-50398b136/?utm_medium=Exinfluencer&utm_source=Exinfluencer&utm_content=000026UJ&utm_term=10006555&utm_id=NA-SkillsNetwork-Channel-SkillsNetworkCoursesIBMDeveloperSkillsNetworkPY0220ENSkillsNetwork900-2022-01-01\">Joseph Santarcangelo</a> has a PhD in Electrical Engineering, his research focused on using machine learning, signal processing, and computer vision to determine how videos impact human cognition. Joseph has been working for IBM since he completed his PhD.\n\nAzim Hirjani\n",
      "metadata": {},
      "id": "2a3dfd40-cc64-45eb-b227-f5fac413302b"
    },
    {
      "cell_type": "markdown",
      "source": "## Change Log\n\n| Date (YYYY-MM-DD) | Version | Changed By    | Change Description        |\n| ----------------- | ------- | ------------- | ------------------------- |\n| 2022-02-28        | 1.2     | Lakshmi Holla | Changed the URL of GameStop |\n| 2020-11-10        | 1.1     | Malika Singla | Deleted the Optional part |\n| 2020-08-27        | 1.0     | Malika Singla | Added lab to GitLab       |\n\n<hr>\n\n## <h3 align=\"center\"> © IBM Corporation 2020. All rights reserved. <h3/>\n\n<p>\n",
      "metadata": {},
      "id": "f0241bee-799c-4d33-8a95-0d5572066f14"
    }
  ]
}